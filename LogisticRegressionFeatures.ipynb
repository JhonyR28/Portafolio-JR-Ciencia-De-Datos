{
  "cells": [
    {
      "cell_type": "markdown",
      "metadata": {
        "id": "view-in-github",
        "colab_type": "text"
      },
      "source": [
        "<a href=\"https://colab.research.google.com/github/JhonyR28/Portafolio_JR_MachineLearning/blob/main/LogisticRegressionFeatures.ipynb\" target=\"_parent\"><img src=\"https://colab.research.google.com/assets/colab-badge.svg\" alt=\"Open In Colab\"/></a>"
      ]
    },
    {
      "source": [
        "How Machine Learning Helps Farmers Select the Best Crops\n",
        "\n",
        "\n",
        "Dataset called `soil_measures.csv` contains:\n",
        "\n",
        "- `\"N\"`: Nitrogen content ratio in the soil\n",
        "- `\"P\"`: Phosphorous content ratio in the soil\n",
        "- `\"K\"`: Potassium content ratio in the soil\n",
        "- `\"pH\"` value of the soil\n",
        "- `\"crop\"`: categorical values that contain various crops (target variable).\n",
        "\n",
        "Each row in this dataset represents various measures of the soil in a particular field. Based on these measurements, the crop specified in the `\"crop\"` column is the optimal choice for that field.  \n",
        "\n",
        "In this project I built a multi-class classification models to predict the type of `\"crop\"` and identify the single most importance feature for predictive performance."
      ],
      "metadata": {
        "id": "d3d001b0-2e2f-4b58-8442-99520bad831f"
      },
      "id": "d3d001b0-2e2f-4b58-8442-99520bad831f",
      "cell_type": "markdown"
    },
    {
      "source": [
        "import pandas as pd\n",
        "from sklearn.linear_model import LogisticRegression\n",
        "from sklearn.model_selection import train_test_split\n",
        "from sklearn import metrics\n",
        "\n",
        "crops = pd.read_csv(\"soil_measures.csv\")\n",
        "print(crops.columns)\n",
        "print(crops.head())\n",
        "print(crops.describe())\n",
        "print(crops.isna().sum().sort_values())"
      ],
      "metadata": {
        "executionCancelledAt": null,
        "executionTime": 42,
        "lastExecutedAt": 1743910210643,
        "lastExecutedByKernel": "ed89bb71-3be8-4c76-969d-51646006cc1f",
        "lastScheduledRunId": null,
        "lastSuccessfullyExecutedCode": "# All required libraries are imported here for you.\nimport pandas as pd\nfrom sklearn.linear_model import LogisticRegression\nfrom sklearn.model_selection import train_test_split\nfrom sklearn import metrics\n\n# Load the dataset\ncrops = pd.read_csv(\"soil_measures.csv\")\nprint(crops.columns)\nprint(crops.head())\nprint(crops.describe())\nprint(crops.isna().sum().sort_values())",
        "outputsMetadata": {
          "0": {
            "height": 479,
            "type": "stream"
          }
        },
        "id": "ca535ee7-f1a8-40fd-ad9f-2c921cd2db5c",
        "outputId": "8675a724-0c8f-470f-aac9-ff235e6d20f1"
      },
      "cell_type": "code",
      "id": "ca535ee7-f1a8-40fd-ad9f-2c921cd2db5c",
      "outputs": [
        {
          "output_type": "stream",
          "name": "stdout",
          "text": "Index(['N', 'P', 'K', 'ph', 'crop'], dtype='object')\n    N   P   K        ph  crop\n0  90  42  43  6.502985  rice\n1  85  58  41  7.038096  rice\n2  60  55  44  7.840207  rice\n3  74  35  40  6.980401  rice\n4  78  42  42  7.628473  rice\n                 N            P            K           ph\ncount  2200.000000  2200.000000  2200.000000  2200.000000\nmean     50.551818    53.362727    48.149091     6.469480\nstd      36.917334    32.985883    50.647931     0.773938\nmin       0.000000     5.000000     5.000000     3.504752\n25%      21.000000    28.000000    20.000000     5.971693\n50%      37.000000    51.000000    32.000000     6.425045\n75%      84.250000    68.000000    49.000000     6.923643\nmax     140.000000   145.000000   205.000000     9.935091\nN       0\nP       0\nK       0\nph      0\ncrop    0\ndtype: int64\n"
        }
      ],
      "execution_count": null
    },
    {
      "source": [
        "import pandas as pd\n",
        "from sklearn.linear_model import LogisticRegression\n",
        "from sklearn.model_selection import train_test_split\n",
        "from sklearn import metrics\n",
        "from sklearn.preprocessing import StandardScaler\n",
        "scaler = StandardScaler()\n",
        "X = crops.drop('crop', axis=1)\n",
        "y = crops['crop'].values\n",
        "X_train, X_test, y_train, y_test = train_test_split(X, y, random_state=42, test_size=0.2)\n",
        "# Dictionary to store performance results\n",
        "features_dict = {}\n",
        "for feature in [\"N\", \"P\", \"K\", \"ph\"]:\n",
        "    logreg = LogisticRegression(multi_class=\"multinomial\")\n",
        "    logreg.fit(X_train[[feature]], y_train)  # Fit with one feature\n",
        "    y_pred = logreg.predict(X_test[[feature]])  # Predict with the same feature\n",
        "    # F1-score (weighted)\n",
        "    f1 = metrics.f1_score(y_test, y_pred, average='weighted')\n",
        "    # Balanced accuracy\n",
        "    balanced_accuracy = metrics.balanced_accuracy_score(y_test, y_pred)\n",
        "    # Store the results in the dictionary\n",
        "    features_dict[feature] = {'F1-score': f1, 'Balanced Accuracy': balanced_accuracy}\n",
        "    # Print the results for each feature\n",
        "    print(f\"Feature: {feature}\")\n",
        "    print(f\"F1-score: {f1}\")\n",
        "    print(f\"Balanced Accuracy: {balanced_accuracy}\")\n",
        "    print(\"-\" * 30)\n",
        "\n"
      ],
      "metadata": {
        "executionCancelledAt": null,
        "executionTime": null,
        "lastExecutedAt": null,
        "lastExecutedByKernel": null,
        "lastScheduledRunId": null,
        "lastSuccessfullyExecutedCode": null,
        "outputsMetadata": {
          "0": {
            "height": 353,
            "type": "stream"
          }
        },
        "id": "2e6b6749-3d81-4f27-8fe3-91b6d77bf06b",
        "outputId": "18b1c99c-807e-4061-be1f-ee0ff502fca9"
      },
      "cell_type": "code",
      "id": "2e6b6749-3d81-4f27-8fe3-91b6d77bf06b",
      "outputs": [
        {
          "output_type": "stream",
          "name": "stdout",
          "text": "Feature: N\nF1-score: 0.09149868209906838\nBalanced Accuracy: 0.1476702830081481\n------------------------------\nFeature: P\nF1-score: 0.14761942909728204\nBalanced Accuracy: 0.21874937920777934\n------------------------------\nFeature: K\nF1-score: 0.23896974566001802\nBalanced Accuracy: 0.30589580340250316\n------------------------------\nFeature: ph\nF1-score: 0.04532731061152114\nBalanced Accuracy: 0.11066529867543097\n------------------------------\n"
        }
      ],
      "execution_count": null
    },
    {
      "source": [
        "best_predictive_feature = {'K':0.23896974566001802}"
      ],
      "metadata": {
        "executionCancelledAt": null,
        "executionTime": 46,
        "lastExecutedAt": 1743910219234,
        "lastExecutedByKernel": "ed89bb71-3be8-4c76-969d-51646006cc1f",
        "lastScheduledRunId": null,
        "lastSuccessfullyExecutedCode": "best_predictive_feature = {'K':0.23896974566001802}",
        "id": "bbc66807-eeb1-4e8a-8a50-c63da9a53a91"
      },
      "cell_type": "code",
      "id": "bbc66807-eeb1-4e8a-8a50-c63da9a53a91",
      "outputs": [],
      "execution_count": null
    }
  ],
  "metadata": {
    "colab": {
      "provenance": [],
      "include_colab_link": true
    },
    "kernelspec": {
      "display_name": "Python 3 (ipykernel)",
      "language": "python",
      "name": "python3"
    },
    "language_info": {
      "codemirror_mode": {
        "name": "ipython",
        "version": 3
      },
      "file_extension": ".py",
      "mimetype": "text/x-python",
      "name": "python",
      "nbconvert_exporter": "python",
      "pygments_lexer": "ipython3",
      "version": "3.8.10"
    }
  },
  "nbformat": 4,
  "nbformat_minor": 5
}
